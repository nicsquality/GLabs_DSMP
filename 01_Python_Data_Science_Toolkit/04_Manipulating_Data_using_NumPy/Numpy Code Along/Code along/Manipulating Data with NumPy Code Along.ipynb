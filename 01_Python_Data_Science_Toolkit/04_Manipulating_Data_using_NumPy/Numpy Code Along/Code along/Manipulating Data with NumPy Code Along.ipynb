{
 "cells": [
  {
   "cell_type": "markdown",
   "metadata": {},
   "source": [
    "# IPL Dataset Analysis\n",
    "\n",
    "## Problem Statement\n",
    "We want to know as to what happens during an IPL match which raises several questions in our mind with our limited knowledge about the game called cricket on which it is based. This analysis is done to know as which factors led one of the team to win and how does it matter."
   ]
  },
  {
   "cell_type": "markdown",
   "metadata": {},
   "source": [
    "## About the Dataset :\n",
    "The Indian Premier League (IPL) is a professional T20 cricket league in India contested during April-May of every year by teams representing Indian cities. It is the most-attended cricket league in the world and ranks sixth among all the sports leagues. It has teams with players from around the world and is very competitive and entertaining with a lot of close matches between teams.\n",
    "\n",
    "The IPL and other cricket related datasets are available at [cricsheet.org](https://cricsheet.org/%c2%a0(data). Feel free to visit the website and explore the data by yourself as exploring new sources of data is one of the interesting activities a data scientist gets to do.\n",
    "\n",
    "## About the dataset:\n",
    "Snapshot of the data you will be working on:<br>\n",
    "<br>\n",
    "The dataset 1452 data points and 23 features<br>\n",
    "\n",
    "|Features|Description|\n",
    "|-----|-----|\n",
    "|match_code|Code pertaining to individual match|\n",
    "|date|Date of the match played|\n",
    "|city|Location where the match was played|\n",
    "|team1|team1|\n",
    "|team2|team2|\n",
    "|toss_winner|Who won the toss out of two teams|\n",
    "|toss_decision|toss decision taken by toss winner|\n",
    "|winner|Winner of that match between two teams|\n",
    "|win_type|How did the team won(by wickets or runs etc.)|\n",
    "|win_margin|difference with which the team won| \n",
    "|inning|inning type(1st or 2nd)|\n",
    "|delivery|ball delivery|\n",
    "|batting_team|current team on batting|\n",
    "|batsman|current batsman on strike|\n",
    "|non_striker|batsman on non-strike|\n",
    "|bowler|Current bowler|\n",
    "|runs|runs scored|\n",
    "|extras|extra run scored|\n",
    "|total|total run scored on that delivery including runs and extras|\n",
    "|extras_type|extra run scored by wides or no ball or legby|\n",
    "|player_out|player that got out|\n",
    "|wicket_kind|How did the player got out|\n",
    "|wicket_fielders|Fielder who caught out the player by catch|\n"
   ]
  },
  {
   "cell_type": "markdown",
   "metadata": {},
   "source": [
    "### Analysing data using numpy module"
   ]
  },
  {
   "cell_type": "markdown",
   "metadata": {},
   "source": [
    "### Read the data using numpy module."
   ]
  },
  {
   "cell_type": "code",
   "execution_count": 1,
   "metadata": {},
   "outputs": [],
   "source": [
    "import numpy as np\n",
    "# Not every data format will be in csv there are other file formats also.\n",
    "# This exercise will help you deal with other file formats and how toa read it.\n",
    "path = './data/ipl_matches_small.csv'\n",
    "data_ipl = np.genfromtxt(path, delimiter=',', skip_header=1, dtype=str)\n",
    "\n"
   ]
  },
  {
   "cell_type": "code",
   "execution_count": 2,
   "metadata": {},
   "outputs": [
    {
     "data": {
      "text/plain": [
       "array(['Kolkata Knight Riders', 'Kolkata Knight Riders',\n",
       "       'Kolkata Knight Riders', ..., 'Rajasthan Royals',\n",
       "       'Rajasthan Royals', 'Rajasthan Royals'], dtype='<U21')"
      ]
     },
     "execution_count": 2,
     "metadata": {},
     "output_type": "execute_result"
    }
   ],
   "source": [
    "data_ipl[:,3]"
   ]
  },
  {
   "cell_type": "markdown",
   "metadata": {},
   "source": [
    "### Calculate the unique no. of matches in the provided dataset ?"
   ]
  },
  {
   "cell_type": "code",
   "execution_count": 3,
   "metadata": {},
   "outputs": [
    {
     "name": "stdout",
     "output_type": "stream",
     "text": [
      "Unique no. of matches is  6\n"
     ]
    }
   ],
   "source": [
    "# How many matches were held in total we need to know so that we can analyze further statistics keeping that in mind.\n",
    "print('Unique no. of matches is ',len(np.unique(data_ipl[:,0])))\n",
    "              \n",
    "\n",
    "    \n"
   ]
  },
  {
   "cell_type": "markdown",
   "metadata": {},
   "source": [
    "### Find the set of all unique teams that played in the matches in the data set."
   ]
  },
  {
   "cell_type": "code",
   "execution_count": 4,
   "metadata": {},
   "outputs": [],
   "source": [
    "# this exercise deals with you getting to know that which are all those six teams that played in the tournament.\n"
   ]
  },
  {
   "cell_type": "code",
   "execution_count": 31,
   "metadata": {},
   "outputs": [
    {
     "name": "stdout",
     "output_type": "stream",
     "text": [
      "Unique teams:  ['Chennai Super Kings' 'Deccan Chargers' 'Kings XI Punjab'\n",
      " 'Kolkata Knight Riders' 'Mumbai Indians' 'Pune Warriors'\n",
      " 'Rajasthan Royals']\n"
     ]
    }
   ],
   "source": [
    "teams = np.unique(data_ipl[:, 3:5])\n",
    "print('Unique teams: ', teams)"
   ]
  },
  {
   "cell_type": "markdown",
   "metadata": {},
   "source": [
    "### Find sum of all extras in all deliveries in all matches in the dataset"
   ]
  },
  {
   "cell_type": "code",
   "execution_count": 40,
   "metadata": {},
   "outputs": [
    {
     "name": "stdout",
     "output_type": "stream",
     "text": [
      "Sum of all extras is  88\n"
     ]
    }
   ],
   "source": [
    "# An exercise to make you familiar with indexing and slicing up within data.\n",
    "sum_of_extra = np.sum(data_ipl[:,17].astype(np.int))\n",
    "print('Sum of all extras is ',sum_of_extra)"
   ]
  },
  {
   "cell_type": "markdown",
   "metadata": {},
   "source": [
    "### Get the array of all delivery numbers when a given player got out. Also mention the wicket type."
   ]
  },
  {
   "cell_type": "code",
   "execution_count": 13,
   "metadata": {},
   "outputs": [],
   "source": [
    "wicket_details = data_ipl[np.ix_(data_ipl[:, 21] != '', (11, 20, 21))]"
   ]
  },
  {
   "cell_type": "code",
   "execution_count": 17,
   "metadata": {},
   "outputs": [
    {
     "name": "stdout",
     "output_type": "stream",
     "text": [
      "Array of all delivery numbers when a player got out and wicket type is:  [['3.2' 'ST Jayasuriya' 'caught']\n",
      " ['5.5' 'Harbhajan Singh' 'caught']\n",
      " ['7.6' 'SR Tendulkar' 'caught']\n",
      " ['11.4' 'AM Nayar' 'bowled']\n",
      " ['15.6' 'GR Napier' 'caught']\n",
      " ['18.6' 'AM Rahane' 'caught']\n",
      " ['0.4' 'SC Ganguly' 'bowled']\n",
      " ['2.2' 'CH Gayle' 'bowled']\n",
      " ['14.5' 'MN van Wyk' 'caught']\n",
      " ['17.2' 'LR Shukla' 'bowled']\n",
      " ['18.6' 'BJ Hodge' 'run out']\n",
      " ['19.3' 'BB McCullum' 'caught']\n",
      " ['12.2' 'SR Tendulkar' 'lbw']\n",
      " ['13.5' 'Harbhajan Singh' 'caught']\n",
      " ['14.4' 'ST Jayasuriya' 'caught']\n",
      " ['15.1' 'AM Nayar' 'run out']\n",
      " ['16.6' 'DJ Bravo' 'caught']\n",
      " ['18.5' 'S Dhawan' 'caught']\n",
      " ['1.7' 'BB McCullum' 'caught']\n",
      " ['2.7' 'CH Gayle' 'caught']\n",
      " ['10.2' 'BJ Hodge' 'bowled']\n",
      " ['12.1' 'SC Ganguly' 'caught']\n",
      " ['12.3' 'AN Ghosh' 'caught']\n",
      " ['13.2' 'Yashpal Singh' 'caught']\n",
      " ['14.5' 'LR Shukla' 'caught']\n",
      " ['15.1' 'BAW Mendis' 'bowled']\n",
      " ['15.2' 'AB Dinda' 'bowled']\n",
      " ['1.5' 'HH Gibbs' 'caught']\n",
      " ['5.3' 'TL Suman' 'caught']\n",
      " ['9.4' 'AC Gilchrist' 'bowled']\n",
      " ['12.6' 'DR Smith' 'bowled']\n",
      " ['17.1' 'RG Sharma' 'caught']\n",
      " ['19.1' 'Y Venugopal Rao' 'run out']\n",
      " ['1.4' 'ST Jayasuriya' 'caught']\n",
      " ['1.5' 'SR Tendulkar' 'bowled']\n",
      " ['8.5' 'PR Shah' 'caught']\n",
      " ['14.1' 'DJ Bravo' 'caught']\n",
      " ['15.5' 'AM Nayar' 'bowled']\n",
      " ['15.6' 'Harbhajan Singh' 'bowled']\n",
      " ['17.1' 'JP Duminy' 'caught']\n",
      " ['17.3' 'SS Tiwary' 'stumped']\n",
      " ['5.3' 'BB McCullum' 'caught']\n",
      " ['7.2' 'DR Smith' 'caught']\n",
      " ['8.2' 'SK Raina' 'caught']\n",
      " ['10.1' 'F du Plessis' 'run out']\n",
      " ['11.1' 'MS Dhoni' 'caught']\n",
      " ['14.5' 'M Manhas' 'caught']\n",
      " ['1.3' 'AM Nayar' 'run out']\n",
      " ['5.2' 'AM Rahane' 'caught']\n",
      " ['6.4' 'SR Watson' 'caught']\n",
      " ['6.5' 'SV Samson' 'caught and bowled']\n",
      " ['10.5' 'STR Binny' 'caught']\n",
      " ['12.6' 'SPD Smith' 'caught']\n",
      " ['13.3' 'JP Faulkner' 'caught']\n",
      " ['14.2' 'TG Southee' 'bowled']\n",
      " ['18.3' 'R Bhatia' 'caught']\n",
      " ['19.5' 'PV Tambe' 'run out']\n",
      " ['9.2' 'M Vijay' 'caught']\n",
      " ['9.6' 'SK Raina' 'bowled']\n",
      " ['16.4' 'MS Dhoni' 'stumped']\n",
      " ['17.2' 'MEK Hussey' 'caught']\n",
      " ['17.5' 'JA Morkel' 'caught']\n",
      " ['19.6' 'S Anirudha' 'caught']\n",
      " ['2.4' 'MD Mishra' 'bowled']\n",
      " ['3.6' 'JD Ryder' 'bowled']\n",
      " ['4.6' 'MK Pandey' 'bowled']\n",
      " ['5.3' 'RV Uthappa' 'bowled']\n",
      " ['12.6' 'M Manhas' 'caught']\n",
      " ['18.3' 'Yuvraj Singh' 'caught']\n",
      " ['18.5' 'R Sharma' 'run out']\n",
      " ['19.1' 'JE Taylor' 'run out']\n",
      " ['19.2' 'NL McCullum' 'caught']\n",
      " ['4.5' 'K Goel' 'bowled']\n",
      " ['6.3' 'KC Sangakkara' 'caught and bowled']\n",
      " ['7.4' 'DPMD Jayawardene' 'stumped']\n",
      " ['8.6' 'JR Hopes' 'lbw']\n",
      " ['16.5' 'Yuvraj Singh' 'lbw']\n",
      " ['17.2' 'IK Pathan' 'bowled']\n",
      " ['17.4' 'B Lee' 'caught']\n",
      " ['18.6' 'S Sohal' 'run out']\n",
      " ['1.1' 'M Kaif' 'caught']\n",
      " ['2.3' 'YK Pathan' 'caught and bowled']\n",
      " ['4.5' 'Kamran Akmal' 'caught']\n",
      " ['11.2' 'DS Lehmann' 'lbw']]\n",
      "\n"
     ]
    }
   ],
   "source": [
    "print('Array of all delivery numbers when a player got out and wicket type is: ',wicket_details)\n",
    "print()"
   ]
  },
  {
   "cell_type": "markdown",
   "metadata": {},
   "source": [
    "### How many matches the team `Mumbai Indians` has won the toss?"
   ]
  },
  {
   "cell_type": "code",
   "execution_count": 36,
   "metadata": {},
   "outputs": [
    {
     "name": "stdout",
     "output_type": "stream",
     "text": [
      "2 times 'Mumbai Indian' has won the toss\n"
     ]
    }
   ],
   "source": [
    "# this exercise will help you get the statistics on one particular team\n",
    "print(len(np.unique(data_ipl[np.ix_(data_ipl[:, 5] == 'Mumbai Indians', (0, 3, 4))][:, 0])), \"times 'Mumbai Indian' has won the toss\")"
   ]
  },
  {
   "cell_type": "markdown",
   "metadata": {},
   "source": [
    "### Create a filter that filters only those records where the batsman scored 6 runs. Also who has scored the maximum no. of sixes overall ?"
   ]
  },
  {
   "cell_type": "code",
   "execution_count": 46,
   "metadata": {},
   "outputs": [
    {
     "name": "stdout",
     "output_type": "stream",
     "text": [
      "Batsman scored 6 runs: [['SR Tendulkar' '6']\n",
      " ['SR Tendulkar' '6']\n",
      " ['JP Duminy' '6']\n",
      " ['JP Duminy' '6']\n",
      " ['JP Duminy' '6']\n",
      " ['JP Duminy' '6']\n",
      " ['BJ Hodge' '6']\n",
      " ['BJ Hodge' '6']\n",
      " ['BJ Hodge' '6']\n",
      " ['SR Tendulkar' '6']\n",
      " ['SR Tendulkar' '6']\n",
      " ['ST Jayasuriya' '6']\n",
      " ['ST Jayasuriya' '6']\n",
      " ['SR Tendulkar' '6']\n",
      " ['ST Jayasuriya' '6']\n",
      " ['ST Jayasuriya' '6']\n",
      " ['SR Tendulkar' '6']\n",
      " ['Harbhajan Singh' '6']\n",
      " ['Harbhajan Singh' '6']\n",
      " ['CH Gayle' '6']\n",
      " ['SC Ganguly' '6']\n",
      " ['TL Suman' '6']\n",
      " ['TL Suman' '6']\n",
      " ['AC Gilchrist' '6']\n",
      " ['RG Sharma' '6']\n",
      " ['DR Smith' '6']\n",
      " ['Y Venugopal Rao' '6']\n",
      " ['PR Shah' '6']\n",
      " ['PR Shah' '6']\n",
      " ['RR Raje' '6']\n",
      " ['DR Smith' '6']\n",
      " ['DR Smith' '6']\n",
      " ['DR Smith' '6']\n",
      " ['SV Samson' '6']\n",
      " ['SV Samson' '6']\n",
      " ['SR Watson' '6']\n",
      " ['R Bhatia' '6']\n",
      " ['DS Kulkarni' '6']\n",
      " ['DS Kulkarni' '6']\n",
      " ['MEK Hussey' '6']\n",
      " ['M Vijay' '6']\n",
      " ['MS Dhoni' '6']\n",
      " ['S Badrinath' '6']\n",
      " ['JD Ryder' '6']\n",
      " ['M Manhas' '6']\n",
      " ['K Goel' '6']\n",
      " ['K Goel' '6']\n",
      " ['KC Sangakkara' '6']\n",
      " ['Yuvraj Singh' '6']\n",
      " ['Yuvraj Singh' '6']\n",
      " ['Yuvraj Singh' '6']\n",
      " ['IK Pathan' '6']\n",
      " ['Kamran Akmal' '6']\n",
      " ['SR Watson' '6']\n",
      " ['SR Watson' '6']\n",
      " ['SR Watson' '6']\n",
      " ['SR Watson' '6']\n",
      " ['SR Watson' '6']\n",
      " ['RA Jadeja' '6']]\n"
     ]
    }
   ],
   "source": [
    "# An exercise to know who is the most aggresive player or maybe the scoring player \n",
    "most_sixes = data_ipl[np.ix_(data_ipl[:, 16] == '6', (13, 16))]\n",
    "print('Batsman scored 6 runs:',most_sixes)"
   ]
  },
  {
   "cell_type": "code",
   "execution_count": 62,
   "metadata": {},
   "outputs": [
    {
     "name": "stdout",
     "output_type": "stream",
     "text": [
      "SR Tendulkar has scored most number of sixes\n"
     ]
    }
   ],
   "source": [
    "unique, counts = np.unique(most_sixes[:, 0], return_counts=True)\n",
    "player = sorted(dict(zip(unique, counts)).items(), reverse=True, key=lambda x: x[1])\n",
    "print(player[0][0],'has scored most number of sixes')"
   ]
  }
 ],
 "metadata": {
  "kernelspec": {
   "display_name": "Python 3",
   "language": "python",
   "name": "python3"
  },
  "language_info": {
   "codemirror_mode": {
    "name": "ipython",
    "version": 3
   },
   "file_extension": ".py",
   "mimetype": "text/x-python",
   "name": "python",
   "nbconvert_exporter": "python",
   "pygments_lexer": "ipython3",
   "version": "3.7.0"
  }
 },
 "nbformat": 4,
 "nbformat_minor": 2
}
